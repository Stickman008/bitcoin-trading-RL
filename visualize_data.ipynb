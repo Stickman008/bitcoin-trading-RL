{
 "cells": [
  {
   "cell_type": "code",
   "execution_count": 8,
   "metadata": {},
   "outputs": [],
   "source": [
    "import numpy as np\n",
    "import pandas as pd\n",
    "import matplotlib.pyplot as plt\n",
    "import datetime\n",
    "plt.style.use(\"seaborn\")\n",
    "\n",
    "from trading_environment import TradingEnv\n",
    "from utils import load_data\n",
    "from indicators import get_momentum_strategy"
   ]
  },
  {
   "cell_type": "code",
   "execution_count": 9,
   "metadata": {},
   "outputs": [
    {
     "data": {
      "text/html": [
       "<div>\n",
       "<style scoped>\n",
       "    .dataframe tbody tr th:only-of-type {\n",
       "        vertical-align: middle;\n",
       "    }\n",
       "\n",
       "    .dataframe tbody tr th {\n",
       "        vertical-align: top;\n",
       "    }\n",
       "\n",
       "    .dataframe thead th {\n",
       "        text-align: right;\n",
       "    }\n",
       "</style>\n",
       "<table border=\"1\" class=\"dataframe\">\n",
       "  <thead>\n",
       "    <tr style=\"text-align: right;\">\n",
       "      <th></th>\n",
       "      <th>Date</th>\n",
       "      <th>Open</th>\n",
       "      <th>High</th>\n",
       "      <th>Low</th>\n",
       "      <th>Close</th>\n",
       "      <th>Volume</th>\n",
       "    </tr>\n",
       "  </thead>\n",
       "  <tbody>\n",
       "    <tr>\n",
       "      <th>0</th>\n",
       "      <td>1/1/2019 0:00</td>\n",
       "      <td>3830.50</td>\n",
       "      <td>3846.2</td>\n",
       "      <td>3822.4</td>\n",
       "      <td>3835.16</td>\n",
       "      <td>1032854.96</td>\n",
       "    </tr>\n",
       "    <tr>\n",
       "      <th>1</th>\n",
       "      <td>1/1/2019 1:00</td>\n",
       "      <td>3835.16</td>\n",
       "      <td>3840.1</td>\n",
       "      <td>3819.0</td>\n",
       "      <td>3829.15</td>\n",
       "      <td>1440314.68</td>\n",
       "    </tr>\n",
       "    <tr>\n",
       "      <th>2</th>\n",
       "      <td>1/1/2019 2:00</td>\n",
       "      <td>3829.15</td>\n",
       "      <td>3834.2</td>\n",
       "      <td>3810.2</td>\n",
       "      <td>3817.40</td>\n",
       "      <td>1624863.73</td>\n",
       "    </tr>\n",
       "    <tr>\n",
       "      <th>3</th>\n",
       "      <td>1/1/2019 3:00</td>\n",
       "      <td>3817.40</td>\n",
       "      <td>3832.3</td>\n",
       "      <td>3817.3</td>\n",
       "      <td>3828.40</td>\n",
       "      <td>676778.97</td>\n",
       "    </tr>\n",
       "    <tr>\n",
       "      <th>4</th>\n",
       "      <td>1/1/2019 4:00</td>\n",
       "      <td>3828.40</td>\n",
       "      <td>3844.9</td>\n",
       "      <td>3824.5</td>\n",
       "      <td>3825.00</td>\n",
       "      <td>1179209.23</td>\n",
       "    </tr>\n",
       "  </tbody>\n",
       "</table>\n",
       "</div>"
      ],
      "text/plain": [
       "            Date     Open    High     Low    Close      Volume\n",
       "0  1/1/2019 0:00  3830.50  3846.2  3822.4  3835.16  1032854.96\n",
       "1  1/1/2019 1:00  3835.16  3840.1  3819.0  3829.15  1440314.68\n",
       "2  1/1/2019 2:00  3829.15  3834.2  3810.2  3817.40  1624863.73\n",
       "3  1/1/2019 3:00  3817.40  3832.3  3817.3  3828.40   676778.97\n",
       "4  1/1/2019 4:00  3828.40  3844.9  3824.5  3825.00  1179209.23"
      ]
     },
     "execution_count": 9,
     "metadata": {},
     "output_type": "execute_result"
    }
   ],
   "source": [
    "data_df = load_data(\"data/Bitfinex_BTCUSD_1h_2019\")\n",
    "# data_df = load_data(\"data/Bitfinex_BTCUSD_1h_2019\", strategy=get_momentum_strategy())\n",
    "data_df.head(5)"
   ]
  },
  {
   "cell_type": "code",
   "execution_count": 10,
   "metadata": {},
   "outputs": [
    {
     "data": {
      "image/png": "[encoded data removed]",
      "text/plain": [
       "<Figure size 576x396 with 1 Axes>"
      ]
     },
     "metadata": {},
     "output_type": "display_data"
    }
   ],
   "source": [
    "plt.plot(data_df[\"Close\"])\n",
    "plt.show()"
   ]
  },
  {
   "cell_type": "code",
   "execution_count": null,
   "metadata": {},
   "outputs": [],
   "source": []
  }
 ],
 "metadata": {
  "kernelspec": {
   "display_name": "Python 3.9.12 ('tf2-gpu')",
   "language": "python",
   "name": "python3"
  },
  "language_info": {
   "codemirror_mode": {
    "name": "ipython",
    "version": 3
   },
   "file_extension": ".py",
   "mimetype": "text/x-python",
   "name": "python",
   "nbconvert_exporter": "python",
   "pygments_lexer": "ipython3",
   "version": "3.9.12"
  },
  "orig_nbformat": 4,
  "vscode": {
   "interpreter": {
    "hash": "586ea256996c4d1afba0a24bd3ac38219670b30d200ba45ddfed159cb38a21bb"
   }
  }
 },
 "nbformat": 4,
 "nbformat_minor": 2
}
