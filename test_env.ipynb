{
 "cells": [
  {
   "cell_type": "code",
   "execution_count": 1,
   "metadata": {},
   "outputs": [],
   "source": [
    "import numpy as np\n",
    "import pandas as pd\n",
    "\n",
    "from trading_environment import TradingEnv\n",
    "from utils import load_data\n",
    "from indicators import get_momentum_strategy"
   ]
  },
  {
   "cell_type": "code",
   "execution_count": 2,
   "metadata": {},
   "outputs": [
    {
     "data": {
      "text/html": [
       "<div>\n",
       "<style scoped>\n",
       "    .dataframe tbody tr th:only-of-type {\n",
       "        vertical-align: middle;\n",
       "    }\n",
       "\n",
       "    .dataframe tbody tr th {\n",
       "        vertical-align: top;\n",
       "    }\n",
       "\n",
       "    .dataframe thead th {\n",
       "        text-align: right;\n",
       "    }\n",
       "</style>\n",
       "<table border=\"1\" class=\"dataframe\">\n",
       "  <thead>\n",
       "    <tr style=\"text-align: right;\">\n",
       "      <th></th>\n",
       "      <th>Date</th>\n",
       "      <th>Open</th>\n",
       "      <th>High</th>\n",
       "      <th>Low</th>\n",
       "      <th>Close</th>\n",
       "      <th>Volume</th>\n",
       "    </tr>\n",
       "  </thead>\n",
       "  <tbody>\n",
       "    <tr>\n",
       "      <th>0</th>\n",
       "      <td>1/1/2019 0:00</td>\n",
       "      <td>3830.50</td>\n",
       "      <td>3846.2</td>\n",
       "      <td>3822.40</td>\n",
       "      <td>3835.16</td>\n",
       "      <td>1032854.96</td>\n",
       "    </tr>\n",
       "    <tr>\n",
       "      <th>1</th>\n",
       "      <td>1/1/2019 1:00</td>\n",
       "      <td>3835.16</td>\n",
       "      <td>3840.1</td>\n",
       "      <td>3819.00</td>\n",
       "      <td>3829.15</td>\n",
       "      <td>1440314.68</td>\n",
       "    </tr>\n",
       "    <tr>\n",
       "      <th>2</th>\n",
       "      <td>1/1/2019 2:00</td>\n",
       "      <td>3829.15</td>\n",
       "      <td>3834.2</td>\n",
       "      <td>3810.20</td>\n",
       "      <td>3817.40</td>\n",
       "      <td>1624863.73</td>\n",
       "    </tr>\n",
       "    <tr>\n",
       "      <th>3</th>\n",
       "      <td>1/1/2019 3:00</td>\n",
       "      <td>3817.40</td>\n",
       "      <td>3832.3</td>\n",
       "      <td>3817.30</td>\n",
       "      <td>3828.40</td>\n",
       "      <td>676778.97</td>\n",
       "    </tr>\n",
       "    <tr>\n",
       "      <th>4</th>\n",
       "      <td>1/1/2019 4:00</td>\n",
       "      <td>3828.40</td>\n",
       "      <td>3844.9</td>\n",
       "      <td>3824.50</td>\n",
       "      <td>3825.00</td>\n",
       "      <td>1179209.23</td>\n",
       "    </tr>\n",
       "    <tr>\n",
       "      <th>5</th>\n",
       "      <td>1/1/2019 5:00</td>\n",
       "      <td>3825.00</td>\n",
       "      <td>3833.3</td>\n",
       "      <td>3823.00</td>\n",
       "      <td>3833.30</td>\n",
       "      <td>567718.43</td>\n",
       "    </tr>\n",
       "    <tr>\n",
       "      <th>6</th>\n",
       "      <td>1/1/2019 6:00</td>\n",
       "      <td>3833.30</td>\n",
       "      <td>3839.1</td>\n",
       "      <td>3827.30</td>\n",
       "      <td>3833.21</td>\n",
       "      <td>752878.69</td>\n",
       "    </tr>\n",
       "    <tr>\n",
       "      <th>7</th>\n",
       "      <td>1/1/2019 7:00</td>\n",
       "      <td>3833.21</td>\n",
       "      <td>3868.0</td>\n",
       "      <td>3833.21</td>\n",
       "      <td>3851.00</td>\n",
       "      <td>3354240.14</td>\n",
       "    </tr>\n",
       "  </tbody>\n",
       "</table>\n",
       "</div>"
      ],
      "text/plain": [
       "            Date     Open    High      Low    Close      Volume\n",
       "0  1/1/2019 0:00  3830.50  3846.2  3822.40  3835.16  1032854.96\n",
       "1  1/1/2019 1:00  3835.16  3840.1  3819.00  3829.15  1440314.68\n",
       "2  1/1/2019 2:00  3829.15  3834.2  3810.20  3817.40  1624863.73\n",
       "3  1/1/2019 3:00  3817.40  3832.3  3817.30  3828.40   676778.97\n",
       "4  1/1/2019 4:00  3828.40  3844.9  3824.50  3825.00  1179209.23\n",
       "5  1/1/2019 5:00  3825.00  3833.3  3823.00  3833.30   567718.43\n",
       "6  1/1/2019 6:00  3833.30  3839.1  3827.30  3833.21   752878.69\n",
       "7  1/1/2019 7:00  3833.21  3868.0  3833.21  3851.00  3354240.14"
      ]
     },
     "execution_count": 2,
     "metadata": {},
     "output_type": "execute_result"
    }
   ],
   "source": [
    "data_df = load_data(\"data/Bitfinex_BTCUSD_1h_2019\")\n",
    "# data_df = load_data(\"data/Bitfinex_BTCUSD_1h_2019\", strategy=get_momentum_strategy())\n",
    "data_df.head(8)"
   ]
  },
  {
   "cell_type": "code",
   "execution_count": 3,
   "metadata": {},
   "outputs": [
    {
     "name": "stdout",
     "output_type": "stream",
     "text": [
      "[[3835.16]\n",
      " [3829.15]\n",
      " [3817.4 ]\n",
      " [3828.4 ]\n",
      " [3825.  ]]\n"
     ]
    }
   ],
   "source": [
    "env = TradingEnv(data_df, window_size=5)\n",
    "env.reset()\n",
    "print(env.get_observation())\n",
    "# env.df[env.current_step-env.window_size: env.current_step]"
   ]
  },
  {
   "cell_type": "code",
   "execution_count": 4,
   "metadata": {},
   "outputs": [],
   "source": [
    "# env.step([])\n",
    "# env.df[env.current_step-env.window_size: env.current_step]"
   ]
  },
  {
   "cell_type": "code",
   "execution_count": 5,
   "metadata": {},
   "outputs": [],
   "source": [
    "# done = False\n",
    "# while not done:\n",
    "#     orders = [{\"order_type\": \"open_long\", \"amount\": 10}]\n",
    "#     next_state, reward, done = env.step(orders)\n",
    "# env.current_step"
   ]
  },
  {
   "cell_type": "code",
   "execution_count": 6,
   "metadata": {},
   "outputs": [
    {
     "name": "stdout",
     "output_type": "stream",
     "text": [
      "Reward:0\n",
      "Reward:0\n",
      "Reward:0\n",
      "Reward:0\n",
      "Reward:0\n",
      "3855.6 9500.0 10000.9016865511\n"
     ]
    },
    {
     "data": {
      "text/html": [
       "<div>\n",
       "<style scoped>\n",
       "    .dataframe tbody tr th:only-of-type {\n",
       "        vertical-align: middle;\n",
       "    }\n",
       "\n",
       "    .dataframe tbody tr th {\n",
       "        vertical-align: top;\n",
       "    }\n",
       "\n",
       "    .dataframe thead th {\n",
       "        text-align: right;\n",
       "    }\n",
       "</style>\n",
       "<table border=\"1\" class=\"dataframe\">\n",
       "  <thead>\n",
       "    <tr style=\"text-align: right;\">\n",
       "      <th></th>\n",
       "      <th>Date</th>\n",
       "      <th>Id</th>\n",
       "      <th>Type</th>\n",
       "      <th>EntryPrice</th>\n",
       "      <th>Amount</th>\n",
       "      <th>PNL</th>\n",
       "      <th>pChange</th>\n",
       "    </tr>\n",
       "  </thead>\n",
       "  <tbody>\n",
       "    <tr>\n",
       "      <th>0</th>\n",
       "      <td>1/1/2019 6:00</td>\n",
       "      <td>0</td>\n",
       "      <td>long</td>\n",
       "      <td>3833.21</td>\n",
       "      <td>0.026088</td>\n",
       "      <td>0.584106</td>\n",
       "      <td>0.584106</td>\n",
       "    </tr>\n",
       "    <tr>\n",
       "      <th>1</th>\n",
       "      <td>1/1/2019 7:00</td>\n",
       "      <td>1</td>\n",
       "      <td>long</td>\n",
       "      <td>3851.00</td>\n",
       "      <td>0.025967</td>\n",
       "      <td>0.119449</td>\n",
       "      <td>0.119449</td>\n",
       "    </tr>\n",
       "    <tr>\n",
       "      <th>2</th>\n",
       "      <td>1/1/2019 8:00</td>\n",
       "      <td>2</td>\n",
       "      <td>long</td>\n",
       "      <td>3859.60</td>\n",
       "      <td>0.025909</td>\n",
       "      <td>-0.103638</td>\n",
       "      <td>-0.103638</td>\n",
       "    </tr>\n",
       "    <tr>\n",
       "      <th>3</th>\n",
       "      <td>1/1/2019 9:00</td>\n",
       "      <td>3</td>\n",
       "      <td>long</td>\n",
       "      <td>3844.00</td>\n",
       "      <td>0.026015</td>\n",
       "      <td>0.301769</td>\n",
       "      <td>0.301769</td>\n",
       "    </tr>\n",
       "    <tr>\n",
       "      <th>4</th>\n",
       "      <td>1/1/2019 10:00</td>\n",
       "      <td>4</td>\n",
       "      <td>long</td>\n",
       "      <td>3855.60</td>\n",
       "      <td>0.025936</td>\n",
       "      <td>0.000000</td>\n",
       "      <td>0.000000</td>\n",
       "    </tr>\n",
       "  </tbody>\n",
       "</table>\n",
       "</div>"
      ],
      "text/plain": [
       "             Date  Id  Type  EntryPrice    Amount       PNL   pChange\n",
       "0   1/1/2019 6:00   0  long     3833.21  0.026088  0.584106  0.584106\n",
       "1   1/1/2019 7:00   1  long     3851.00  0.025967  0.119449  0.119449\n",
       "2   1/1/2019 8:00   2  long     3859.60  0.025909 -0.103638 -0.103638\n",
       "3   1/1/2019 9:00   3  long     3844.00  0.026015  0.301769  0.301769\n",
       "4  1/1/2019 10:00   4  long     3855.60  0.025936  0.000000  0.000000"
      ]
     },
     "execution_count": 6,
     "metadata": {},
     "output_type": "execute_result"
    }
   ],
   "source": [
    "# open long\n",
    "for i in range(5):\n",
    "    orders = [{\"order_type\": \"open_long\", \"amount\": 100}]\n",
    "    next_state, reward, done = env.step(orders)\n",
    "    print(f\"Reward:{reward}\")\n",
    "\n",
    "print(env.getCurrentPrice(), env.getBalance(), env.getNetWorth())\n",
    "env.getCurrentPostion()"
   ]
  },
  {
   "cell_type": "code",
   "execution_count": 7,
   "metadata": {},
   "outputs": [
    {
     "name": "stdout",
     "output_type": "stream",
     "text": [
      "3850.6 9599.87031849777 10000.252109719284\n",
      "0\n"
     ]
    },
    {
     "data": {
      "text/html": [
       "<div>\n",
       "<style scoped>\n",
       "    .dataframe tbody tr th:only-of-type {\n",
       "        vertical-align: middle;\n",
       "    }\n",
       "\n",
       "    .dataframe tbody tr th {\n",
       "        vertical-align: top;\n",
       "    }\n",
       "\n",
       "    .dataframe thead th {\n",
       "        text-align: right;\n",
       "    }\n",
       "</style>\n",
       "<table border=\"1\" class=\"dataframe\">\n",
       "  <thead>\n",
       "    <tr style=\"text-align: right;\">\n",
       "      <th></th>\n",
       "      <th>Date</th>\n",
       "      <th>Id</th>\n",
       "      <th>Type</th>\n",
       "      <th>EntryPrice</th>\n",
       "      <th>Amount</th>\n",
       "      <th>PNL</th>\n",
       "      <th>pChange</th>\n",
       "    </tr>\n",
       "  </thead>\n",
       "  <tbody>\n",
       "    <tr>\n",
       "      <th>0</th>\n",
       "      <td>1/1/2019 6:00</td>\n",
       "      <td>0</td>\n",
       "      <td>long</td>\n",
       "      <td>3833.21</td>\n",
       "      <td>0.026088</td>\n",
       "      <td>0.453667</td>\n",
       "      <td>0.453667</td>\n",
       "    </tr>\n",
       "    <tr>\n",
       "      <th>1</th>\n",
       "      <td>1/1/2019 7:00</td>\n",
       "      <td>1</td>\n",
       "      <td>long</td>\n",
       "      <td>3851.00</td>\n",
       "      <td>0.025967</td>\n",
       "      <td>-0.010387</td>\n",
       "      <td>-0.010387</td>\n",
       "    </tr>\n",
       "    <tr>\n",
       "      <th>2</th>\n",
       "      <td>1/1/2019 8:00</td>\n",
       "      <td>2</td>\n",
       "      <td>long</td>\n",
       "      <td>3859.60</td>\n",
       "      <td>0.025909</td>\n",
       "      <td>-0.233185</td>\n",
       "      <td>-0.233185</td>\n",
       "    </tr>\n",
       "    <tr>\n",
       "      <th>3</th>\n",
       "      <td>1/1/2019 9:00</td>\n",
       "      <td>3</td>\n",
       "      <td>long</td>\n",
       "      <td>3844.00</td>\n",
       "      <td>0.026015</td>\n",
       "      <td>0.171696</td>\n",
       "      <td>0.171696</td>\n",
       "    </tr>\n",
       "  </tbody>\n",
       "</table>\n",
       "</div>"
      ],
      "text/plain": [
       "            Date  Id  Type  EntryPrice    Amount       PNL   pChange\n",
       "0  1/1/2019 6:00   0  long     3833.21  0.026088  0.453667  0.453667\n",
       "1  1/1/2019 7:00   1  long     3851.00  0.025967 -0.010387 -0.010387\n",
       "2  1/1/2019 8:00   2  long     3859.60  0.025909 -0.233185 -0.233185\n",
       "3  1/1/2019 9:00   3  long     3844.00  0.026015  0.171696  0.171696"
      ]
     },
     "execution_count": 7,
     "metadata": {},
     "output_type": "execute_result"
    }
   ],
   "source": [
    "# close long\n",
    "orders = [{\"order_type\": \"close_long\", \"id\": 4}]\n",
    "next_state, reward, done =env.step(orders)\n",
    "print(env.getCurrentPrice(), env.getBalance(), env.getNetWorth())\n",
    "print(reward)\n",
    "env.getCurrentPostion()"
   ]
  },
  {
   "cell_type": "code",
   "execution_count": 8,
   "metadata": {},
   "outputs": [
    {
     "data": {
      "text/plain": [
       "(array(['1/1/2019 0:00', '1/1/2019 1:00', '1/1/2019 2:00', ...,\n",
       "        '31/12/2019 21:00', '31/12/2019 22:00', '31/12/2019 23:00'],\n",
       "       dtype=object),\n",
       " array([3835.16, 3829.15, 3817.4 , ..., 7197.4 , 7217.  , 7208.3 ]),\n",
       " array([[1032854.96],\n",
       "        [1440314.68],\n",
       "        [1624863.73],\n",
       "        ...,\n",
       "        [ 653015.01],\n",
       "        [1333111.29],\n",
       "        [1092539.24]]))"
      ]
     },
     "execution_count": 8,
     "metadata": {},
     "output_type": "execute_result"
    }
   ],
   "source": [
    "env.date, env.prices, env.features"
   ]
  }
 ],
 "metadata": {
  "kernelspec": {
   "display_name": "Python 3.9.12 ('tf2-gpu')",
   "language": "python",
   "name": "python3"
  },
  "language_info": {
   "codemirror_mode": {
    "name": "ipython",
    "version": 3
   },
   "file_extension": ".py",
   "mimetype": "text/x-python",
   "name": "python",
   "nbconvert_exporter": "python",
   "pygments_lexer": "ipython3",
   "version": "3.9.12"
  },
  "orig_nbformat": 4,
  "vscode": {
   "interpreter": {
    "hash": "a52a0f3d7699f80e9b9bf0fcc65af90b93cb0293c63dd5d9a000502c20aee271"
   }
  }
 },
 "nbformat": 4,
 "nbformat_minor": 2
}
