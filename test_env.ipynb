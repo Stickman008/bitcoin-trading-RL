{
 "cells": [
  {
   "cell_type": "code",
   "execution_count": 1,
   "metadata": {},
   "outputs": [],
   "source": [
    "import numpy as np\n",
    "import pandas as pd\n",
    "\n",
    "from trading_environment import TradingEnv\n",
    "from utils import load_data\n",
    "from indicators import get_momentum_strategy"
   ]
  },
  {
   "cell_type": "code",
   "execution_count": 2,
   "metadata": {},
   "outputs": [
    {
     "data": {
      "text/html": [
       "<div>\n",
       "<style scoped>\n",
       "    .dataframe tbody tr th:only-of-type {\n",
       "        vertical-align: middle;\n",
       "    }\n",
       "\n",
       "    .dataframe tbody tr th {\n",
       "        vertical-align: top;\n",
       "    }\n",
       "\n",
       "    .dataframe thead th {\n",
       "        text-align: right;\n",
       "    }\n",
       "</style>\n",
       "<table border=\"1\" class=\"dataframe\">\n",
       "  <thead>\n",
       "    <tr style=\"text-align: right;\">\n",
       "      <th></th>\n",
       "      <th>Date</th>\n",
       "      <th>Open</th>\n",
       "      <th>High</th>\n",
       "      <th>Low</th>\n",
       "      <th>Close</th>\n",
       "      <th>Volume</th>\n",
       "    </tr>\n",
       "  </thead>\n",
       "  <tbody>\n",
       "    <tr>\n",
       "      <th>0</th>\n",
       "      <td>1/1/2019 0:00</td>\n",
       "      <td>3830.50</td>\n",
       "      <td>3846.2</td>\n",
       "      <td>3822.40</td>\n",
       "      <td>3835.16</td>\n",
       "      <td>1032854.96</td>\n",
       "    </tr>\n",
       "    <tr>\n",
       "      <th>1</th>\n",
       "      <td>1/1/2019 1:00</td>\n",
       "      <td>3835.16</td>\n",
       "      <td>3840.1</td>\n",
       "      <td>3819.00</td>\n",
       "      <td>3829.15</td>\n",
       "      <td>1440314.68</td>\n",
       "    </tr>\n",
       "    <tr>\n",
       "      <th>2</th>\n",
       "      <td>1/1/2019 2:00</td>\n",
       "      <td>3829.15</td>\n",
       "      <td>3834.2</td>\n",
       "      <td>3810.20</td>\n",
       "      <td>3817.40</td>\n",
       "      <td>1624863.73</td>\n",
       "    </tr>\n",
       "    <tr>\n",
       "      <th>3</th>\n",
       "      <td>1/1/2019 3:00</td>\n",
       "      <td>3817.40</td>\n",
       "      <td>3832.3</td>\n",
       "      <td>3817.30</td>\n",
       "      <td>3828.40</td>\n",
       "      <td>676778.97</td>\n",
       "    </tr>\n",
       "    <tr>\n",
       "      <th>4</th>\n",
       "      <td>1/1/2019 4:00</td>\n",
       "      <td>3828.40</td>\n",
       "      <td>3844.9</td>\n",
       "      <td>3824.50</td>\n",
       "      <td>3825.00</td>\n",
       "      <td>1179209.23</td>\n",
       "    </tr>\n",
       "    <tr>\n",
       "      <th>5</th>\n",
       "      <td>1/1/2019 5:00</td>\n",
       "      <td>3825.00</td>\n",
       "      <td>3833.3</td>\n",
       "      <td>3823.00</td>\n",
       "      <td>3833.30</td>\n",
       "      <td>567718.43</td>\n",
       "    </tr>\n",
       "    <tr>\n",
       "      <th>6</th>\n",
       "      <td>1/1/2019 6:00</td>\n",
       "      <td>3833.30</td>\n",
       "      <td>3839.1</td>\n",
       "      <td>3827.30</td>\n",
       "      <td>3833.21</td>\n",
       "      <td>752878.69</td>\n",
       "    </tr>\n",
       "    <tr>\n",
       "      <th>7</th>\n",
       "      <td>1/1/2019 7:00</td>\n",
       "      <td>3833.21</td>\n",
       "      <td>3868.0</td>\n",
       "      <td>3833.21</td>\n",
       "      <td>3851.00</td>\n",
       "      <td>3354240.14</td>\n",
       "    </tr>\n",
       "  </tbody>\n",
       "</table>\n",
       "</div>"
      ],
      "text/plain": [
       "            Date     Open    High      Low    Close      Volume\n",
       "0  1/1/2019 0:00  3830.50  3846.2  3822.40  3835.16  1032854.96\n",
       "1  1/1/2019 1:00  3835.16  3840.1  3819.00  3829.15  1440314.68\n",
       "2  1/1/2019 2:00  3829.15  3834.2  3810.20  3817.40  1624863.73\n",
       "3  1/1/2019 3:00  3817.40  3832.3  3817.30  3828.40   676778.97\n",
       "4  1/1/2019 4:00  3828.40  3844.9  3824.50  3825.00  1179209.23\n",
       "5  1/1/2019 5:00  3825.00  3833.3  3823.00  3833.30   567718.43\n",
       "6  1/1/2019 6:00  3833.30  3839.1  3827.30  3833.21   752878.69\n",
       "7  1/1/2019 7:00  3833.21  3868.0  3833.21  3851.00  3354240.14"
      ]
     },
     "execution_count": 2,
     "metadata": {},
     "output_type": "execute_result"
    }
   ],
   "source": [
    "data_df = load_data(\"data/Bitfinex_BTCUSD_1h_2019\")\n",
    "# data_df = load_data(\"data/Bitfinex_BTCUSD_1h_2019\", strategy=get_momentum_strategy())\n",
    "data_df.head(8)"
   ]
  },
  {
   "cell_type": "code",
   "execution_count": 3,
   "metadata": {},
   "outputs": [
    {
     "name": "stdout",
     "output_type": "stream",
     "text": [
      "[[3835.16]\n",
      " [3829.15]\n",
      " [3817.4 ]\n",
      " [3828.4 ]\n",
      " [3825.  ]]\n"
     ]
    }
   ],
   "source": [
    "env = TradingEnv(data_df, window_size=5)\n",
    "env.reset()\n",
    "print(env.get_observation())\n",
    "# env.df[env.current_step-env.window_size: env.current_step]"
   ]
  },
  {
   "cell_type": "code",
   "execution_count": 4,
   "metadata": {},
   "outputs": [],
   "source": [
    "# env.step([])\n",
    "# env.df[env.current_step-env.window_size: env.current_step]"
   ]
  },
  {
   "cell_type": "code",
   "execution_count": 5,
   "metadata": {},
   "outputs": [],
   "source": [
    "# done = False\n",
    "# while not done:\n",
    "#     orders = [{\"order_type\": \"open_long\", \"amount\": 10}]\n",
    "#     next_state, reward, done = env.step(orders)\n",
    "# env.current_step"
   ]
  },
  {
   "cell_type": "code",
   "execution_count": 6,
   "metadata": {},
   "outputs": [
    {
     "data": {
      "text/html": [
       "<div>\n",
       "<style scoped>\n",
       "    .dataframe tbody tr th:only-of-type {\n",
       "        vertical-align: middle;\n",
       "    }\n",
       "\n",
       "    .dataframe tbody tr th {\n",
       "        vertical-align: top;\n",
       "    }\n",
       "\n",
       "    .dataframe thead th {\n",
       "        text-align: right;\n",
       "    }\n",
       "</style>\n",
       "<table border=\"1\" class=\"dataframe\">\n",
       "  <thead>\n",
       "    <tr style=\"text-align: right;\">\n",
       "      <th></th>\n",
       "      <th>Date</th>\n",
       "      <th>Id</th>\n",
       "      <th>Type</th>\n",
       "      <th>EntryPrice</th>\n",
       "      <th>Amount</th>\n",
       "      <th>PNL</th>\n",
       "      <th>pChange</th>\n",
       "    </tr>\n",
       "  </thead>\n",
       "  <tbody>\n",
       "  </tbody>\n",
       "</table>\n",
       "</div>"
      ],
      "text/plain": [
       "Empty DataFrame\n",
       "Columns: [Date, Id, Type, EntryPrice, Amount, PNL, pChange]\n",
       "Index: []"
      ]
     },
     "execution_count": 6,
     "metadata": {},
     "output_type": "execute_result"
    }
   ],
   "source": [
    "env.getCurrentPostion()"
   ]
  },
  {
   "cell_type": "code",
   "execution_count": 7,
   "metadata": {},
   "outputs": [
    {
     "name": "stdout",
     "output_type": "stream",
     "text": [
      "Reward:0\n",
      "Reward:0\n",
      "Reward:2.2331861854063644\n",
      "Reward:-1.0005048059359587\n",
      "Reward:5.841057494893281\n",
      "3855.6 10008.074243680301 10008.074243680301\n"
     ]
    },
    {
     "data": {
      "text/html": [
       "<div>\n",
       "<style scoped>\n",
       "    .dataframe tbody tr th:only-of-type {\n",
       "        vertical-align: middle;\n",
       "    }\n",
       "\n",
       "    .dataframe tbody tr th {\n",
       "        vertical-align: top;\n",
       "    }\n",
       "\n",
       "    .dataframe thead th {\n",
       "        text-align: right;\n",
       "    }\n",
       "</style>\n",
       "<table border=\"1\" class=\"dataframe\">\n",
       "  <thead>\n",
       "    <tr style=\"text-align: right;\">\n",
       "      <th></th>\n",
       "      <th>Date</th>\n",
       "      <th>Id</th>\n",
       "      <th>Type</th>\n",
       "      <th>EntryPrice</th>\n",
       "      <th>Amount</th>\n",
       "      <th>PNL</th>\n",
       "      <th>pChange</th>\n",
       "    </tr>\n",
       "  </thead>\n",
       "  <tbody>\n",
       "  </tbody>\n",
       "</table>\n",
       "</div>"
      ],
      "text/plain": [
       "Empty DataFrame\n",
       "Columns: [Date, Id, Type, EntryPrice, Amount, PNL, pChange]\n",
       "Index: []"
      ]
     },
     "execution_count": 7,
     "metadata": {},
     "output_type": "execute_result"
    }
   ],
   "source": [
    "# open long\n",
    "orders_list = [[{\"order_type\": \"open_long\", \"amount\": 1000}],\n",
    "               [{\"order_type\": \"open_long\", \"amount\": 1000}],\n",
    "               [{\"order_type\": \"close_long\", \"id\": 1}],\n",
    "               [],\n",
    "               [{\"order_type\": \"close_long\", \"id\": 0}]\n",
    "               ]\n",
    "for i in range(5):\n",
    "    orders = orders_list[i]\n",
    "    next_state, reward, done = env.step(orders)\n",
    "    print(f\"Reward:{reward}\")\n",
    "\n",
    "print(env.getCurrentPrice(), env.getBalance(), env.getNetWorth())\n",
    "env.getCurrentPostion()"
   ]
  },
  {
   "cell_type": "code",
   "execution_count": 8,
   "metadata": {},
   "outputs": [
    {
     "ename": "KeyError",
     "evalue": "3",
     "output_type": "error",
     "traceback": [
      "\u001b[1;31m---------------------------------------------------------------------------\u001b[0m",
      "\u001b[1;31mKeyError\u001b[0m                                  Traceback (most recent call last)",
      "\u001b[1;32md:\\MyProjects\\bitcoin-trading-RL\\test_env.ipynb Cell 8\u001b[0m in \u001b[0;36m<cell line: 5>\u001b[1;34m()\u001b[0m\n\u001b[0;32m      <a href='vscode-notebook-cell:/d%3A/MyProjects/bitcoin-trading-RL/test_env.ipynb#ch0000006?line=0'>1</a>\u001b[0m \u001b[39m# close long\u001b[39;00m\n\u001b[0;32m      <a href='vscode-notebook-cell:/d%3A/MyProjects/bitcoin-trading-RL/test_env.ipynb#ch0000006?line=1'>2</a>\u001b[0m \u001b[39m# orders = [{\"order_type\": \"close_long\", \"id\": 4}]\u001b[39;00m\n\u001b[0;32m      <a href='vscode-notebook-cell:/d%3A/MyProjects/bitcoin-trading-RL/test_env.ipynb#ch0000006?line=2'>3</a>\u001b[0m \u001b[39m# next_state, reward, done = env.step(orders)\u001b[39;00m\n\u001b[0;32m      <a href='vscode-notebook-cell:/d%3A/MyProjects/bitcoin-trading-RL/test_env.ipynb#ch0000006?line=3'>4</a>\u001b[0m order \u001b[39m=\u001b[39m [{\u001b[39m\"\u001b[39m\u001b[39morder_type\u001b[39m\u001b[39m\"\u001b[39m: \u001b[39m\"\u001b[39m\u001b[39mclose_long\u001b[39m\u001b[39m\"\u001b[39m, \u001b[39m\"\u001b[39m\u001b[39mid\u001b[39m\u001b[39m\"\u001b[39m: \u001b[39m3\u001b[39m}]\n\u001b[1;32m----> <a href='vscode-notebook-cell:/d%3A/MyProjects/bitcoin-trading-RL/test_env.ipynb#ch0000006?line=4'>5</a>\u001b[0m \u001b[39mprint\u001b[39m(\u001b[39mf\u001b[39m\u001b[39m\"\u001b[39m\u001b[39mReward: \u001b[39m\u001b[39m{\u001b[39;00menv\u001b[39m.\u001b[39mget_reward(order)\u001b[39m}\u001b[39;00m\u001b[39m\"\u001b[39m)\n\u001b[0;32m      <a href='vscode-notebook-cell:/d%3A/MyProjects/bitcoin-trading-RL/test_env.ipynb#ch0000006?line=5'>6</a>\u001b[0m \u001b[39mprint\u001b[39m(env\u001b[39m.\u001b[39mgetCurrentPrice(), env\u001b[39m.\u001b[39mgetBalance(), env\u001b[39m.\u001b[39mgetNetWorth())\n\u001b[0;32m      <a href='vscode-notebook-cell:/d%3A/MyProjects/bitcoin-trading-RL/test_env.ipynb#ch0000006?line=6'>7</a>\u001b[0m \u001b[39m# print(reward)\u001b[39;00m\n",
      "File \u001b[1;32md:\\MyProjects\\bitcoin-trading-RL\\trading_environment.py:108\u001b[0m, in \u001b[0;36mTradingEnv.get_reward\u001b[1;34m(self, actions)\u001b[0m\n\u001b[0;32m    106\u001b[0m \u001b[39melse\u001b[39;00m:\n\u001b[0;32m    107\u001b[0m     \u001b[39mif\u001b[39;00m action_type \u001b[39m==\u001b[39m \u001b[39m\"\u001b[39m\u001b[39mclose_long\u001b[39m\u001b[39m\"\u001b[39m:\n\u001b[1;32m--> 108\u001b[0m         reward \u001b[39m+\u001b[39m\u001b[39m=\u001b[39m (current_price\u001b[39m-\u001b[39m\u001b[39mself\u001b[39;49m\u001b[39m.\u001b[39;49mpositions[action[\u001b[39m\"\u001b[39;49m\u001b[39mid\u001b[39;49m\u001b[39m\"\u001b[39;49m]][\u001b[39m\"\u001b[39m\u001b[39mentry_price\u001b[39m\u001b[39m\"\u001b[39m])\u001b[39m*\u001b[39m\u001b[39mself\u001b[39m\u001b[39m.\u001b[39mpositions[action[\u001b[39m\"\u001b[39m\u001b[39mid\u001b[39m\u001b[39m\"\u001b[39m]][\u001b[39m\"\u001b[39m\u001b[39mamount\u001b[39m\u001b[39m\"\u001b[39m]\n\u001b[0;32m    109\u001b[0m         \u001b[39m# print(current_price-self.positions[action[\"id\"]][\"entry_price\"])\u001b[39;00m\n\u001b[0;32m    110\u001b[0m     \u001b[39melif\u001b[39;00m action_type \u001b[39m==\u001b[39m \u001b[39m\"\u001b[39m\u001b[39mclose_short\u001b[39m\u001b[39m\"\u001b[39m:\n",
      "\u001b[1;31mKeyError\u001b[0m: 3"
     ]
    }
   ],
   "source": [
    "# close long\n",
    "# orders = [{\"order_type\": \"close_long\", \"id\": 4}]\n",
    "# next_state, reward, done = env.step(orders)\n",
    "order = [{\"order_type\": \"close_long\", \"id\": 3}]\n",
    "print(f\"Reward: {env.get_reward(order)}\")\n",
    "print(env.getCurrentPrice(), env.getBalance(), env.getNetWorth())\n",
    "# print(reward)\n",
    "env.getCurrentPostion()"
   ]
  },
  {
   "cell_type": "code",
   "execution_count": null,
   "metadata": {},
   "outputs": [],
   "source": [
    "env.date, env.prices, env.features"
   ]
  }
 ],
 "metadata": {
  "kernelspec": {
   "display_name": "Python 3.9.12 ('tf2-gpu')",
   "language": "python",
   "name": "python3"
  },
  "language_info": {
   "codemirror_mode": {
    "name": "ipython",
    "version": 3
   },
   "file_extension": ".py",
   "mimetype": "text/x-python",
   "name": "python",
   "nbconvert_exporter": "python",
   "pygments_lexer": "ipython3",
   "version": "3.9.12"
  },
  "orig_nbformat": 4,
  "vscode": {
   "interpreter": {
    "hash": "586ea256996c4d1afba0a24bd3ac38219670b30d200ba45ddfed159cb38a21bb"
   }
  }
 },
 "nbformat": 4,
 "nbformat_minor": 2
}
